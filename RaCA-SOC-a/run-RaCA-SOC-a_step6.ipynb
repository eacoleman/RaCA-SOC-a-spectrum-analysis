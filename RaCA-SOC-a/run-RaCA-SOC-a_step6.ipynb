{
 "cells": [
  {
   "cell_type": "markdown",
   "id": "0737caa3-6b11-47a4-b6b8-f5a4b3c31d57",
   "metadata": {},
   "source": [
    "# Getting seed encoder model from linear unmixing data of step 4"
   ]
  },
  {
   "cell_type": "code",
   "execution_count": 1,
   "id": "cc6869d9-fd5c-4da3-a92d-1bca81074501",
   "metadata": {},
   "outputs": [],
   "source": [
    "import import_ipynb\n",
    "import numpy as np\n",
    "import matplotlib.pyplot as plt\n",
    "from matplotlib.patches import Rectangle\n",
    "from scipy.stats import gaussian_kde\n",
    "\n",
    "import torch\n",
    "import torch .nn as nn\n",
    "import torch .optim as optim\n",
    "\n",
    "import json\n",
    "\n",
    "import gc\n",
    "\n",
    "from tqdm.notebook import tqdm\n",
    "\n",
    "plt.rcParams['text.usetex'] = True"
   ]
  },
  {
   "cell_type": "markdown",
   "id": "977b34b6-09e9-4fcf-94a7-e6e4a0a627b2",
   "metadata": {},
   "source": [
    "# Create model to regress abundances for individual spectra"
   ]
  },
  {
   "cell_type": "markdown",
   "id": "e36c46fa-fe26-4eeb-9956-9c3ccfdf9b83",
   "metadata": {
    "tags": []
   },
   "source": [
    "### Define Linear Mixing Model "
   ]
  },
  {
   "cell_type": "code",
   "execution_count": 2,
   "id": "86393233-39df-4ae2-8241-1c6e5717de9b",
   "metadata": {},
   "outputs": [],
   "source": [
    "class LinearMixingSOCPredictor(nn.Module):\n",
    "    def __init__(self, seedFs, seedMs, trueMsoc, rhorad, seedrrsoc, nepochs):\n",
    "        super().__init__()\n",
    "        # fixed quantities\n",
    "        self.rhorad = rhorad;\n",
    "        self.fs     = seedFs;\n",
    "        self.truemsoc = trueMsoc;\n",
    "        \n",
    "        # model parameters\n",
    "        self.rrsoc  = nn.Parameter(seedrrsoc);\n",
    "        self.ms     = nn.Parameter(seedMs);\n",
    "        \n",
    "        # model output\n",
    "        self.Ihat   = 0;\n",
    "        \n",
    "        # variables for tracking optimization\n",
    "        self.epoch = 0;\n",
    "        self.nepochs = nepochs;\n",
    "        \n",
    "        self.lsq = np.zeros(nepochs);\n",
    "        self.loss = np.zeros(nepochs);\n",
    "        self.socbias = np.zeros(nepochs);\n",
    "        self.bdsALoss = np.zeros(nepochs);\n",
    "        self.diffloss1 = np.zeros(nepochs);\n",
    "        self.difflossfull = np.zeros(nepochs);\n",
    "        \n",
    "        \n",
    "    def forward(self, y):\n",
    "        rrFull    = torch.cat((self.rhorad,self.rrsoc.unsqueeze(0)))\n",
    "        mFull     = (self.ms.t() / torch.sum(self.ms)).t()\n",
    "        self.Ihat = torch.matmul(torchA(mFull,rrFull).float(),self.fs.float())\n",
    "                \n",
    "        # Add in a fake Lagrange multiplier to discourage abundances < 0.001 or > 0.999\n",
    "        oobsA = torch.sum((mFull < 0.001).float() * (mFull - 0.001)**2) \n",
    "        oobsA = oobsA + torch.sum((mFull > 0.999).float() * (mFull + 0.001 - 1.0) **2)\n",
    "        \n",
    "        # Add in 1st derivative loss to smooth the curves\n",
    "        diffloss = torch.sum(torch.diff(self.Ihat) ** 2)\n",
    "        self.diffloss1[self.epoch] = diffloss.detach().item();\n",
    "        \n",
    "        diffloss += torch.sum(torch.diff(torch.diff(self.Ihat)) ** 2)\n",
    "        \n",
    "        # Compute the loss function, which is the mean-squared error between data and prediction,\n",
    "        # with a multiplicative factor for our fake Lagrange multipliers\n",
    "        lsq = torch.sum((y - self.Ihat) ** 2)\n",
    "        loss = lsq * (1 + 100.0* diffloss + 100.0*oobsA)\n",
    "        \n",
    "        # Report optimization statistics\n",
    "        self.lsq[self.epoch]  = lsq.detach().item()\n",
    "        self.loss[self.epoch] = loss.detach().item();\n",
    "        self.socbias[self.epoch]  = self.truemsoc - mFull[-1];\n",
    "        self.bdsALoss[self.epoch] = oobsA.detach().item();\n",
    "        self.difflossfull[self.epoch] = diffloss.detach().item();\n",
    "        \n",
    "        self.epoch += 1;\n",
    "        \n",
    "        return loss\n",
    "    "
   ]
  },
  {
   "cell_type": "markdown",
   "id": "d2c7c6c8-91ed-4e6e-8335-cb4440999cb5",
   "metadata": {},
   "source": [
    "### Define encoder which converts spectrum to abundances"
   ]
  },
  {
   "cell_type": "code",
   "execution_count": 3,
   "id": "30f960f1-8f37-491d-baa5-bb2cb383ce01",
   "metadata": {},
   "outputs": [],
   "source": [
    "class LinearMixingEncoder(nn.Module):\n",
    "    def __init__(self, M, K, hidden_size):\n",
    "        super().__init__()\n",
    "        \n",
    "        self.mlp = nn.Sequential(\n",
    "            nn.BatchNorm1d(M),\n",
    "            nn.Linear(M, hidden_size),\n",
    "            nn.BatchNorm1d(hidden_size),\n",
    "            nn.ReLU(),\n",
    "            \n",
    "            # Collection of hidden layers\n",
    "            nn.Linear(hidden_size, hidden_size),\n",
    "            nn.BatchNorm1d(hidden_size),\n",
    "            nn.ReLU(),\n",
    "            nn.Linear(hidden_size, hidden_size),\n",
    "            nn.BatchNorm1d(hidden_size),\n",
    "            nn.ReLU(),\n",
    "            nn.Linear(hidden_size, hidden_size),\n",
    "            nn.BatchNorm1d(hidden_size),\n",
    "            nn.ReLU(),\n",
    "            \n",
    "            # Convert to vector of mass abundances.\n",
    "            nn.Linear(hidden_size, K), \n",
    "            \n",
    "            # No subsequent BatchNorm on last layer.\n",
    "            \n",
    "            # Use leaky ReLU: has gradient !=0 at large negative values\n",
    "            # so that very small abundances (large neg. values at this layer)\n",
    "            # sit in a region of nonvanishing gradient\n",
    "            nn.LeakyReLU()            \n",
    "        )\n",
    "        \n",
    "        # Softmax to ensure abundances add up to 1\n",
    "        self.smax = nn.Softmax() \n",
    "        \n",
    "    def forward(self, y):\n",
    "        y_mlp = self.mlp(y);\n",
    "        ms = self.smax(y_mlp);\n",
    "        return ms"
   ]
  },
  {
   "cell_type": "markdown",
   "id": "02aedcf3-d03e-4c8e-ab06-22dfc21cb3d7",
   "metadata": {},
   "source": [
    "### Run through picklefiles, collect abundances regressed and corresponding spectra"
   ]
  },
  {
   "cell_type": "code",
   "execution_count": 4,
   "id": "06adf6c4-594b-47f9-9c85-99715dbcd0fc",
   "metadata": {},
   "outputs": [],
   "source": [
    "# Set analysis parameters\n",
    "KEndmembers = 90\n",
    "MSpectra = 2151"
   ]
  },
  {
   "cell_type": "code",
   "execution_count": 5,
   "id": "30b7e34f-b9d2-4adc-985a-7a5b99de2cca",
   "metadata": {},
   "outputs": [],
   "source": [
    "def A(ms,rhorads) :\n",
    "    tA = ms / rhorads\n",
    "    return (tA.T / np.sum(tA)).T"
   ]
  },
  {
   "cell_type": "code",
   "execution_count": 6,
   "id": "987beba7-5856-4223-91cb-536859088113",
   "metadata": {},
   "outputs": [],
   "source": [
    "import os\n",
    "\n",
    "# Get number of spectra to analyze\n",
    "dir_path = r'./results/step4/'\n",
    "resultsDirContents = [entry for entry in os.listdir(dir_path) if os.path.isfile(os.path.join(dir_path, entry)) and \"batch\" in entry and entry.split(\".\")[-1] == \"pkl\"]\n",
    "NSpectra = len(resultsDirContents)"
   ]
  },
  {
   "cell_type": "code",
   "execution_count": 17,
   "id": "6c66ec7e-0b9e-4ff9-b641-d6ae47b3b79a",
   "metadata": {},
   "outputs": [
    {
     "data": {
      "application/vnd.jupyter.widget-view+json": {
       "model_id": "62ad33dce51c4a2dadb88cff269268a9",
       "version_major": 2,
       "version_minor": 0
      },
      "text/plain": [
       "  0%|          | 0/121374 [00:00<?, ?it/s]"
      ]
     },
     "metadata": {},
     "output_type": "display_data"
    }
   ],
   "source": [
    "import pickle\n",
    "\n",
    "# Create spectra lists\n",
    "Is = np.zeros([NSpectra,MSpectra])\n",
    "\n",
    "# Create model parameter lists\n",
    "Fs = np.zeros([KEndmembers,MSpectra])\n",
    "rhorads = np.zeros(KEndmembers)\n",
    "\n",
    "# Create abundance list\n",
    "Ms = np.zeros([NSpectra,KEndmembers])\n",
    "\n",
    "# Create msoc list\n",
    "trueMSOC = np.zeros(NSpectra)\n",
    "\n",
    "# Populate F\n",
    "with open(dir_path+resultsDirContents[0], 'rb') as file:\n",
    "        (model,seedMs,seedrrsoc,dataIndices,msoc) = pickle.load(file)\n",
    "        Fs = np.array(model.fs.tolist())\n",
    "        rhorads[:-1] = np.array(model.rhorad.tolist())\n",
    "        rhorads[-1] = model.rrsoc.detach().item()\n",
    "        \n",
    "# Populate lists\n",
    "for iSpec in tqdm(range(len(resultsDirContents))) :\n",
    "    with open(dir_path+resultsDirContents[iSpec], 'rb') as file:\n",
    "        (model,_,_,_,msoc) = pickle.load(file)\n",
    "        \n",
    "        tcorrms = np.array(model.ms.tolist())[:-1]\n",
    "        tcorrms = (tcorrms > 0.0).astype('float32') * tcorrms\n",
    "        tcorrms = (tcorrms.T / (np.sum(tcorrms)) * (1-msoc)).T\n",
    "        \n",
    "        Ms[iSpec,:-1]   = tcorrms\n",
    "        Ms[iSpec,-1]    = msoc\n",
    "        trueMSOC[iSpec] = msoc\n",
    "        \n",
    "        Is[iSpec,:] = np.dot(A(Ms[iSpec,:],rhorads),Fs)\n",
    "        \n"
   ]
  },
  {
   "cell_type": "markdown",
   "id": "b2a8023c-d553-40ed-b7c3-fa23b9bbb1db",
   "metadata": {},
   "source": [
    "### Train seed encoder model"
   ]
  },
  {
   "cell_type": "code",
   "execution_count": 14,
   "id": "92dbc37e-05e3-43fb-bced-1370d191e55c",
   "metadata": {},
   "outputs": [
    {
     "name": "stdout",
     "output_type": "stream",
     "text": [
      "Pytorch CUDA Version is  11.7\n",
      "Whether CUDA is supported by our system: True\n",
      "Name of the current CUDA Device:  NVIDIA GeForce RTX 4090\n",
      "cuda\n"
     ]
    }
   ],
   "source": [
    "print(\"Pytorch CUDA Version is \", torch.version.cuda)\n",
    "print(\"Whether CUDA is supported by our system:\", torch.cuda.is_available())\n",
    "cuda_id = torch.cuda.current_device()\n",
    "print(\"Name of the current CUDA Device: \", torch.cuda.get_device_name(cuda_id))\n",
    "torch.cuda.set_device(0)\n",
    "device = torch.device(\"cuda\" if torch.cuda.is_available() else \"cpu\")\n",
    "print(device)"
   ]
  },
  {
   "cell_type": "code",
   "execution_count": 18,
   "id": "93ac6622-e8a7-4353-b61a-9c75593e7bfe",
   "metadata": {},
   "outputs": [],
   "source": [
    "# Truth-level outputs: regressed abundances from an LMM\n",
    "tMs  = torch.tensor(Ms.tolist()).to(device)\n",
    "\n",
    "# Truth-level inputs: Individual spectra\n",
    "tIs = torch.tensor(Is.tolist()).to(device)\n",
    "\n",
    "# Training settings, optimizer declarations\n",
    "nepochs = 20000\n",
    "model = LinearMixingEncoder(MSpectra, KEndmembers, 512).to(device)\n",
    "optimizer = optim.Adam(model.parameters(), lr = 0.000005, betas=(0.99,0.999))\n",
    "preds = []"
   ]
  },
  {
   "cell_type": "code",
   "execution_count": 19,
   "id": "0790129a-4026-4579-a402-741128a11eeb",
   "metadata": {},
   "outputs": [
    {
     "name": "stdout",
     "output_type": "stream",
     "text": [
      "1944360\n"
     ]
    }
   ],
   "source": [
    "model_parameters = filter(lambda p: p.requires_grad, model.parameters())\n",
    "params = sum([np.prod(p.size()) for p in model_parameters])\n",
    "print(params)"
   ]
  },
  {
   "cell_type": "code",
   "execution_count": 20,
   "id": "fe7067dd-f4c8-46ee-8115-c0d83aed12f6",
   "metadata": {},
   "outputs": [],
   "source": [
    "# Optimizer tracking\n",
    "cEpoch = 0\n",
    "lossTracking = np.zeros(nepochs);"
   ]
  },
  {
   "cell_type": "code",
   "execution_count": null,
   "id": "c960eb91-dce0-4e14-9155-ea2fa3f7a2db",
   "metadata": {},
   "outputs": [],
   "source": [
    "for epoch in tqdm(range(nepochs)) :\n",
    "    preds = model(tIs)\n",
    "    loss = (preds - tMs)**2\n",
    "    e = torch.mean(loss)\n",
    "    e.backward()\n",
    "    optimizer.step()\n",
    "    optimizer.zero_grad()\n",
    "\n",
    "    lossTracking[cEpoch] = e.detach().item()\n",
    "    cEpoch += 1\n",
    "\n",
    "print(\"Epoch \",epoch,\": \", lossTracking[-1], lossTracking[-1] / (0.01 ** 2) / (KEndmembers))"
   ]
  },
  {
   "cell_type": "markdown",
   "id": "3a91a39c-9df9-4997-9fdf-ca854bebe414",
   "metadata": {},
   "source": [
    "### Check training output"
   ]
  },
  {
   "cell_type": "code",
   "execution_count": 35,
   "id": "2a71361d-4671-49cf-9011-7684191516dd",
   "metadata": {},
   "outputs": [
    {
     "data": {
      "image/png": "[encoded data removed]",
      "text/plain": [
       "<Figure size 1000x500 with 2 Axes>"
      ]
     },
     "metadata": {},
     "output_type": "display_data"
    }
   ],
   "source": [
    "_, axarr = plt.subplots(1,2,figsize=(10,5))\n",
    "\n",
    "axarr[0].scatter(Ms[:,-1],np.array(preds[:,-1].tolist()))\n",
    "axarr[0].set_xlabel(\"True SOC abundance\")\n",
    "axarr[0].set_ylabel(\"Predicted SOC abundance\")\n",
    "\n",
    "axarr[1].scatter([i for i in range(lossTracking.shape[0])],lossTracking)\n",
    "axarr[1].set_xlabel(\"Epoch\")\n",
    "axarr[1].set_ylabel(\"chi2/NDF\")\n",
    "\n",
    "plt.tight_layout()\n",
    "plt.show()"
   ]
  },
  {
   "cell_type": "code",
   "execution_count": 36,
   "id": "d24af2cf-fe37-45fa-9351-4171faa4b0ef",
   "metadata": {},
   "outputs": [],
   "source": [
    "import pickle\n",
    "\n",
    "with open('step6_fullFit_E20k_lr0p000005_b1_0p99_b2_0p999.pkl', 'wb') as file:\n",
    "        pickle.dump((model,optimizer,Is,Fs,Ms,rhorads,trueMSOC,preds,lossTracking), file)"
   ]
  },
  {
   "cell_type": "markdown",
   "id": "e2038354-18c6-4dff-b939-83672cb6c3f1",
   "metadata": {},
   "source": [
    "## Check performance on real data"
   ]
  },
  {
   "cell_type": "code",
   "execution_count": null,
   "id": "3a923cdb-7808-45ee-9502-16bd3302e627",
   "metadata": {},
   "outputs": [],
   "source": [
    "import pickle\n",
    "\n",
    "(model,optimizer,Is,Fs,Ms,rhorads,trueMSOC,preds,lossTracking) = ([],[],[],[],[],[],[],[],[])\n",
    "with open('results/step6/step6_fullFit_E20k_lr0p000005_b1_0p99_b2_0p999.pkl', 'rb') as file:\n",
    "        (model,optimizer,Is,Fs,Ms,rhorads,trueMSOC,preds,lossTracking) = pickle.load(file)\n",
    "        \n",
    "model.to(device)"
   ]
  },
  {
   "cell_type": "code",
   "execution_count": null,
   "id": "b3e38f60-9a85-4321-bd87-da92103caf4a",
   "metadata": {},
   "outputs": [],
   "source": [
    "data = np.loadtxt(\"../data/RaCA-spectra-raw.txt\",\n",
    "                 delimiter=\",\", dtype=str)"
   ]
  },
  {
   "cell_type": "code",
   "execution_count": null,
   "id": "86c2e13f-f950-40af-92a6-f3149a2e58a5",
   "metadata": {},
   "outputs": [],
   "source": [
    "data[0,2152:]\n",
    "sample_top   = data[1:,2153].astype('float32')\n",
    "sample_bot   = data[1:,2154].astype('float32')\n",
    "sample_txtr  = data[1:,2156]\n",
    "sample_bd    = data[1:,2158].astype('float32')\n",
    "sample_bdsd  = data[1:,2159].astype('float32')\n",
    "sample_soc   = data[1:,2162].astype('float32')\n",
    "sample_socsd = data[1:,2163].astype('float32')"
   ]
  },
  {
   "cell_type": "code",
   "execution_count": null,
   "id": "10ee00b0-51a1-4c02-b943-0ee285243f53",
   "metadata": {},
   "outputs": [],
   "source": [
    "dataI = data[1:,1:2152].astype('float32')\n",
    "XF = np.array([x for x in range(350,2501)]);"
   ]
  },
  {
   "cell_type": "code",
   "execution_count": null,
   "id": "f3179b89-ef28-4c88-b00d-6503caca20bf",
   "metadata": {},
   "outputs": [],
   "source": [
    "def postProcessSpectrum(xin,xout,refin) :\n",
    "    return np.interp(xout, xin, refin)\n",
    "\n",
    "for iSpec in tqdm(range(dataI.shape[0])) :\n",
    "            \n",
    "    wavelengths = [x for x in range(350,2501)]\n",
    "    reflectance = dataI[iSpec,:]\n",
    "    \n",
    "    newwave = np.array([wavelengths[i] for i in range(len(wavelengths)) if reflectance[i] is not None and reflectance[i] > 0.0 and reflectance[i] <= 1.0])\n",
    "    newref  = np.array([reflectance[i] for i in range(len(reflectance)) if reflectance[i] is not None and reflectance[i] > 0.0 and reflectance[i] <= 1.0])\n",
    "    \n",
    "    dataI[iSpec,:] = postProcessSpectrum(newwave,XF,newref)"
   ]
  },
  {
   "cell_type": "code",
   "execution_count": null,
   "id": "07ecf5b2-64cb-48a8-8644-1aa655f00e6a",
   "metadata": {},
   "outputs": [],
   "source": [
    "preds = model(dataI)"
   ]
  },
  {
   "cell_type": "code",
   "execution_count": null,
   "id": "0407ee76-7d6f-432a-a2f6-88e4d207b22e",
   "metadata": {},
   "outputs": [],
   "source": [
    "plt.scatter(sample_soc,np.array(preds[:,-1].tolist()))\n",
    "plt.set_xlabel(\"True SOC abundance\")\n",
    "plt.set_ylabel(\"Predicted SOC abundance\")"
   ]
  }
 ],
 "metadata": {
  "kernelspec": {
   "display_name": "Python 3 (ipykernel)",
   "language": "python",
   "name": "python3"
  },
  "language_info": {
   "codemirror_mode": {
    "name": "ipython",
    "version": 3
   },
   "file_extension": ".py",
   "mimetype": "text/x-python",
   "name": "python",
   "nbconvert_exporter": "python",
   "pygments_lexer": "ipython3",
   "version": "3.9.7"
  }
 },
 "nbformat": 4,
 "nbformat_minor": 5
}
