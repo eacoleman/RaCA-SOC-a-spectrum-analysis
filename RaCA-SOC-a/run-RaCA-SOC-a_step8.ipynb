{
 "cells": [
  {
   "attachments": {},
   "cell_type": "markdown",
   "id": "0737caa3-6b11-47a4-b6b8-f5a4b3c31d57",
   "metadata": {},
   "source": [
    "# Step 8: Attempt to modify potentially problematic spectra through fit to data"
   ]
  },
  {
   "attachments": {},
   "cell_type": "markdown",
   "id": "8e6776db-332a-493b-8554-d98c356b3535",
   "metadata": {},
   "source": [
    "Since biases are large, and some of the spectra may be problematic for pure endmembers, let us now permit modifications to those spectra. Vary F for some of the endmembers which are predicted with high abundances far away from their expected global average values. \n",
    "\n",
    "The loss function to be minimized should be the prediction error on a minibatch of RaCA spectra.\n",
    "\n",
    "Can also try 1/R^2 - 1, where R^2 is the coefficient of regression for a plot of predicted vs. actual carbon content on a large minibatch of RaCA."
   ]
  },
  {
   "cell_type": "code",
   "execution_count": 1,
   "id": "cc6869d9-fd5c-4da3-a92d-1bca81074501",
   "metadata": {},
   "outputs": [],
   "source": [
    "import import_ipynb\n",
    "import numpy as np\n",
    "import matplotlib.pyplot as plt\n",
    "from matplotlib.patches import Rectangle\n",
    "\n",
    "import torch\n",
    "import torch .nn as nn\n",
    "import torch .optim as optim\n",
    "\n",
    "import json\n",
    "\n",
    "import gc\n",
    "\n",
    "from tqdm.notebook import tqdm\n",
    "\n",
    "plt.rcParams['text.usetex'] = True"
   ]
  },
  {
   "attachments": {},
   "cell_type": "markdown",
   "id": "58e73bdb-f217-4b5f-a662-480c8d692861",
   "metadata": {},
   "source": [
    "### Load RaCA data and post-process spectra"
   ]
  },
  {
   "cell_type": "code",
   "execution_count": 2,
   "id": "c004db5f-7041-453e-9598-c1123c86552c",
   "metadata": {},
   "outputs": [],
   "source": [
    "data = np.loadtxt(\"../data/RaCA-spectra-raw.txt\",\n",
    "                 delimiter=\",\", dtype=str)"
   ]
  },
  {
   "cell_type": "code",
   "execution_count": 3,
   "id": "f237c98c-ad68-4b10-bd2a-3ee20d2a8242",
   "metadata": {},
   "outputs": [],
   "source": [
    "#data[0,2152:]\n",
    "#sample_top   = data[1:,2153].astype('float32')\n",
    "#sample_bot   = data[1:,2154].astype('float32')\n",
    "#sample_txtr  = data[1:,2156]\n",
    "sample_bd    = data[1:,2158].astype('float32')\n",
    "sample_bdsd  = data[1:,2159].astype('float32')\n",
    "sample_soc   = data[1:,2162].astype('float32')\n",
    "sample_socsd = data[1:,2163].astype('float32')"
   ]
  },
  {
   "cell_type": "code",
   "execution_count": 4,
   "id": "ad22ff70-5cb5-4202-a589-b5fa8b73976d",
   "metadata": {},
   "outputs": [],
   "source": [
    "#dataI = data[1:,1:2152].astype('float32')\n",
    "XF = np.array([x for x in range(350,2501)]);"
   ]
  },
  {
   "cell_type": "code",
   "execution_count": 22,
   "id": "eabfefd6-cc63-43d0-8f6e-a4bc5b15158c",
   "metadata": {},
   "outputs": [
    {
     "data": {
      "application/vnd.jupyter.widget-view+json": {
       "model_id": "f19c3bf0a31646589cb6de0744b3cc10",
       "version_major": 2,
       "version_minor": 0
      },
      "text/plain": [
       "  0%|          | 0/121376 [00:00<?, ?it/s]"
      ]
     },
     "metadata": {},
     "output_type": "display_data"
    }
   ],
   "source": [
    "def postProcessSpectrum(xin,xout,refin) :\n",
    "    return np.interp(xout, xin, refin)\n",
    "\n",
    "for iSpec in tqdm(range(dataI.shape[0])) :\n",
    "            \n",
    "    wavelengths = [x for x in range(350,2501)]\n",
    "    reflectance = dataI[iSpec,:]\n",
    "    \n",
    "    newwave = np.array([wavelengths[i] for i in range(len(wavelengths)) if reflectance[i] is not None and reflectance[i] > 0.0 and reflectance[i] <= 1.0])\n",
    "    newref  = np.array([reflectance[i] for i in range(len(reflectance)) if reflectance[i] is not None and reflectance[i] > 0.0 and reflectance[i] <= 1.0])\n",
    "    \n",
    "    dataI[iSpec,:] = postProcessSpectrum(newwave,XF,newref)"
   ]
  },
  {
   "cell_type": "code",
   "execution_count": 5,
   "id": "63ea9863",
   "metadata": {},
   "outputs": [],
   "source": [
    "import pickle\n",
    "\n",
    "with open('RaCA-data.pkl', 'rb') as file:\n",
    "        dataI = pickle.load(file)"
   ]
  },
  {
   "cell_type": "code",
   "execution_count": 121,
   "id": "843610de",
   "metadata": {},
   "outputs": [],
   "source": [
    "del data"
   ]
  },
  {
   "attachments": {},
   "cell_type": "markdown",
   "id": "977b34b6-09e9-4fcf-94a7-e6e4a0a627b2",
   "metadata": {},
   "source": [
    "### Define basic model parameters"
   ]
  },
  {
   "cell_type": "code",
   "execution_count": 60,
   "id": "dc4d0825-37af-4663-b964-3ec928b6cce7",
   "metadata": {},
   "outputs": [],
   "source": [
    "def A(ms,rhorads) :\n",
    "    tA = ms / rhorads\n",
    "    return (tA.T / np.sum(tA,axis=1)).T\n",
    "\n",
    "def torchA(ms,rhorads) :\n",
    "    tA = ms / rhorads\n",
    "    return (tA.t() / torch.sum(tA,axis=1)).t()"
   ]
  },
  {
   "attachments": {},
   "cell_type": "markdown",
   "id": "2485fa88-7945-4831-880e-71545a9dd305",
   "metadata": {},
   "source": [
    "### Define models: Encoder and Decoder, Mixing Model and AdamUnmixer"
   ]
  },
  {
   "cell_type": "code",
   "execution_count": 7,
   "id": "cdc56561-a4ec-407f-a019-ae3d24b37722",
   "metadata": {},
   "outputs": [],
   "source": [
    "class LinearMixingEncoder(nn.Module):\n",
    "    def __init__(self, M, K, hidden_size):\n",
    "        super().__init__()\n",
    "        \n",
    "        self.mlp = nn.Sequential(\n",
    "            nn.BatchNorm1d(M),\n",
    "            nn.Linear(M, hidden_size),\n",
    "            nn.BatchNorm1d(hidden_size),\n",
    "            nn.ReLU(),\n",
    "            \n",
    "            # Collection of hidden layers\n",
    "            nn.Linear(hidden_size, hidden_size),\n",
    "            nn.BatchNorm1d(hidden_size),\n",
    "            nn.ReLU(),\n",
    "            nn.Linear(hidden_size, hidden_size),\n",
    "            nn.BatchNorm1d(hidden_size),\n",
    "            nn.ReLU(),\n",
    "            nn.Linear(hidden_size, hidden_size),\n",
    "            nn.BatchNorm1d(hidden_size),\n",
    "            nn.ReLU(),\n",
    "            \n",
    "            # Convert to vector of mass abundances.\n",
    "            nn.Linear(hidden_size, K), \n",
    "            \n",
    "            # No subsequent BatchNorm on last layer.\n",
    "            \n",
    "            # Use leaky ReLU: has gradient !=0 at large negative values\n",
    "            # so that very small abundances (large neg. values at this layer)\n",
    "            # sit in a region of nonvanishing gradient\n",
    "            nn.LeakyReLU()            \n",
    "        )\n",
    "        \n",
    "        # Softmax to ensure abundances add up to 1\n",
    "        self.smax = nn.Softmax() \n",
    "        \n",
    "    def forward(self, y):\n",
    "        y_mlp = self.mlp(y);\n",
    "        ms = self.smax(y_mlp);\n",
    "        return ms"
   ]
  },
  {
   "cell_type": "code",
   "execution_count": 8,
   "id": "9bb4bc5b-28b1-4ac8-ab5c-16c5b6c5ebfb",
   "metadata": {},
   "outputs": [],
   "source": [
    "class LinearMixingDecoder(nn.Module):\n",
    "    def __init__(self, seedFs, seedMs, rhorad):\n",
    "        super().__init__()\n",
    "        \n",
    "        # fixed quantities\n",
    "        self.rhorad = rhorad[:-1]\n",
    "        \n",
    "        # model parameters\n",
    "        self.Fs     = nn.Parameter(seedFs)\n",
    "        self.rrsoc  = nn.Parameter(rhorad[-1])\n",
    "        \n",
    "    def forward(self, Ms):\n",
    "        rrFull = torch.cat((self.rhorad,self.rrsoc.unsqueeze(0)))\n",
    "        Ihat   = torch.matmul(torchA(Ms,rrFull).float(),self.Fs.float())\n",
    "        \n",
    "        return Ihat\n",
    "                \n",
    "    def computeLagrangeLossFactor(self) :\n",
    "        # Add in a fake Lagrange multiplier to discourage Fs < 0 and Fs > 1\n",
    "        oobsF = 1.0 * torch.sum((self.Fs < 0.0).float() * (self.Fs ** 2)) \n",
    "        oobsF = oobsF + 1.0 * torch.sum((self.Fs > 1.0).float() * (1.0 - self.Fs) **2)\n",
    "        \n",
    "        # Add in 1st derivative loss to smooth the curves\n",
    "        diffloss = torch.sum(torch.diff(self.Fs) ** 2)\n",
    "        diffloss += torch.sum(torch.diff(torch.diff(self.Fs)) ** 2)\n",
    "        \n",
    "        # Compute the loss function, which is chi-squared/NDF for spectra (1% SD) and msoc\n",
    "        # with a multiplicative factor for our fake Lagrange multipliers\n",
    "        return (1 + 100.0* diffloss + 1000.0*oobsF) "
   ]
  },
  {
   "cell_type": "code",
   "execution_count": 9,
   "id": "b1677a70",
   "metadata": {},
   "outputs": [],
   "source": [
    "class LinearMixingModel(nn.Module):\n",
    "    def __init__(self, seedFs, seedFsoc, seedMs, rhorad, seedrrsoc, nepochs):\n",
    "        super().__init__()\n",
    "        # fixed quantities\n",
    "        self.rhorad = rhorad\n",
    "        self.fs     = seedFs\n",
    "        \n",
    "        # model parameters\n",
    "        self.fsoc   = nn.Parameter(seedFsoc)\n",
    "        self.rrsoc  = nn.Parameter(seedrrsoc)\n",
    "        self.ms     = nn.Parameter(seedMs)\n",
    "        \n",
    "        # model output\n",
    "        self.Ihat   = 0;\n",
    "        \n",
    "        # variables for tracking optimization\n",
    "        self.epoch = 0;\n",
    "        self.nepochs = nepochs;\n",
    "        \n",
    "        self.lsq = np.zeros(nepochs);\n",
    "        self.loss = np.zeros(nepochs);\n",
    "        self.bdsALoss = np.zeros(nepochs);\n",
    "        self.bdsFLoss = np.zeros(nepochs);\n",
    "        self.omrsLoss = np.zeros(nepochs);\n",
    "        self.diffloss1 = np.zeros(nepochs);\n",
    "        self.difflossfull = np.zeros(nepochs);\n",
    "        \n",
    "        \n",
    "    def forward(self, y):\n",
    "        msocs,Is,Imax = y\n",
    "        rrFull    = torch.cat((self.rhorad,self.rrsoc))\n",
    "        mFull     = torch.cat((self.ms,msocs.unsqueeze(1)),dim=1)\n",
    "        mFull     = (mFull.t() / torch.sum(mFull,axis=1)).t()\n",
    "        fFull     = torch.cat((self.fs,self.fsoc.unsqueeze(0)),dim=0)\n",
    "        self.Ihat = torch.matmul(torchA(mFull,rrFull).float(),fFull.float())\n",
    "                \n",
    "        # Add in a fake Lagrange multiplier to discourage abundances < 0.001 or > 0.999\n",
    "        oobsA = torch.sum((mFull < 0.001).float() * (mFull - 0.001)**2) \n",
    "        oobsA = oobsA + torch.sum((mFull > 0.999).float() * (mFull + 0.001 - 1.0) **2)\n",
    "\n",
    "        # Add in a fake Lagrange multiplier to discourage Fsoc < 0 and Fsoc > 1\n",
    "        oobsF = 1.0 * torch.sum((self.fsoc < 0.0).float() * (self.fsoc ** 2)) \n",
    "        oobsF = oobsF + 1.0 * torch.sum((self.fsoc > 1.0).float() * (1.0 - self.fsoc) **2)\n",
    "        \n",
    "        # Add in 1st derivative loss to smooth the curves\n",
    "        diffloss = torch.sum(torch.diff(self.fsoc) ** 2)\n",
    "        self.diffloss1[self.epoch] = diffloss.detach().item();\n",
    "        \n",
    "        diffloss += torch.sum(torch.diff(torch.diff(self.fsoc)) ** 2)\n",
    "        \n",
    "        # Compute the loss function, which is the mean-squared error between data and prediction,\n",
    "        # with a multiplicative factor for our fake Lagrange multipliers\n",
    "        lsq = torch.sum((Is - self.Ihat) ** 2)\n",
    "        loss = lsq * (1 + 100.0* diffloss + 100.0*oobsA + 1000.0*oobsF) # + 10000.0*omrs\n",
    "        \n",
    "        # Report optimization statistics\n",
    "        self.lsq[self.epoch]  = lsq.detach().item()\n",
    "        self.loss[self.epoch] = loss.detach().item();\n",
    "        self.bdsALoss[self.epoch] = oobsA.detach().item();\n",
    "        self.bdsFLoss[self.epoch] = oobsF.detach().item();\n",
    "        self.difflossfull[self.epoch] = diffloss.detach().item();\n",
    "        \n",
    "        self.epoch += 1;\n",
    "        \n",
    "        return loss"
   ]
  },
  {
   "cell_type": "code",
   "execution_count": 10,
   "id": "7f851290",
   "metadata": {},
   "outputs": [],
   "source": [
    "class LinearMixingSOCPredictor(nn.Module):\n",
    "    def __init__(self, seedFs, seedMs, trueMsoc, rhorad, seedrrsoc, nepochs):\n",
    "        super().__init__()\n",
    "        # fixed quantities\n",
    "        self.rhorad = rhorad;\n",
    "        self.fs     = seedFs;\n",
    "        self.truemsoc = trueMsoc;\n",
    "        \n",
    "        # model parameters\n",
    "        self.rrsoc  = nn.Parameter(seedrrsoc);\n",
    "        self.ms     = nn.Parameter(seedMs);\n",
    "        \n",
    "        # model output\n",
    "        self.Ihat   = 0;\n",
    "        \n",
    "        # variables for tracking optimization\n",
    "        self.epoch = 0;\n",
    "        self.nepochs = nepochs;\n",
    "        \n",
    "        self.lsq = np.zeros(nepochs);\n",
    "        self.loss = np.zeros(nepochs);\n",
    "        self.socbias = np.zeros(nepochs);\n",
    "        self.bdsALoss = np.zeros(nepochs);\n",
    "        self.diffloss1 = np.zeros(nepochs);\n",
    "        self.difflossfull = np.zeros(nepochs);\n",
    "        \n",
    "        \n",
    "    def forward(self, y):\n",
    "        rrFull    = torch.cat((self.rhorad,self.rrsoc.unsqueeze(0)))\n",
    "        mFull     = (self.ms.t() / torch.sum(self.ms)).t()\n",
    "        self.Ihat = torch.matmul(torchA(mFull,rrFull).float(),self.fs.float())\n",
    "                \n",
    "        # Add in a fake Lagrange multiplier to discourage abundances < 0.001 or > 0.999\n",
    "        oobsA = torch.sum((mFull < 0.001).float() * (mFull - 0.001)**2) \n",
    "        oobsA = oobsA + torch.sum((mFull > 0.999).float() * (mFull + 0.001 - 1.0) **2)\n",
    "        \n",
    "        # Add in 1st derivative loss to smooth the curves\n",
    "        diffloss = torch.sum(torch.diff(self.Ihat) ** 2)\n",
    "        self.diffloss1[self.epoch] = diffloss.detach().item();\n",
    "        \n",
    "        diffloss += torch.sum(torch.diff(torch.diff(self.Ihat)) ** 2)\n",
    "        \n",
    "        # Compute the loss function, which is the mean-squared error between data and prediction,\n",
    "        # with a multiplicative factor for our fake Lagrange multipliers\n",
    "        lsq = torch.sum((y - self.Ihat) ** 2)\n",
    "        loss = lsq * (1 + 100.0* diffloss + 100.0*oobsA)\n",
    "        \n",
    "        # Report optimization statistics\n",
    "        self.lsq[self.epoch]  = lsq.detach().item()\n",
    "        self.loss[self.epoch] = loss.detach().item();\n",
    "        self.socbias[self.epoch]  = self.truemsoc - mFull[-1];\n",
    "        self.bdsALoss[self.epoch] = oobsA.detach().item();\n",
    "        self.difflossfull[self.epoch] = diffloss.detach().item();\n",
    "        \n",
    "        self.epoch += 1;\n",
    "        \n",
    "        return loss"
   ]
  },
  {
   "attachments": {},
   "cell_type": "markdown",
   "id": "4764ea3e-0e57-40fc-ac07-917989ec680c",
   "metadata": {},
   "source": [
    "### Load pre-trained abundances from fit to data"
   ]
  },
  {
   "cell_type": "code",
   "execution_count": 122,
   "id": "03999a60",
   "metadata": {},
   "outputs": [
    {
     "name": "stdout",
     "output_type": "stream",
     "text": [
      "Pytorch CUDA Version is  11.7\n",
      "Whether CUDA is supported by our system: True\n",
      "Name of the current CUDA Device:  NVIDIA GeForce RTX 4090\n",
      "cuda\n"
     ]
    }
   ],
   "source": [
    "print(\"Pytorch CUDA Version is \", torch.version.cuda)\n",
    "print(\"Whether CUDA is supported by our system:\", torch.cuda.is_available())\n",
    "cuda_id = torch.cuda.current_device()\n",
    "print(\"Name of the current CUDA Device: \", torch.cuda.get_device_name(cuda_id))\n",
    "torch.cuda.set_device(0)\n",
    "device = torch.device(\"cuda\" if torch.cuda.is_available() else \"cpu\")\n",
    "print(device)"
   ]
  },
  {
   "cell_type": "code",
   "execution_count": 12,
   "id": "69b4b7c8",
   "metadata": {},
   "outputs": [],
   "source": [
    "import pickle\n",
    "        \n",
    "with open('step5_fullFit_E200k_lr0p00002_b1_0p99_b2_0p999.pkl', 'rb') as file:\n",
    "        (model,_,_,_,_,_,dataIndices,msoc,_,_,_) = pickle.load(file)"
   ]
  },
  {
   "cell_type": "code",
   "execution_count": 118,
   "id": "8c438752",
   "metadata": {},
   "outputs": [],
   "source": [
    "ttrrFull = torch.cat((model.rhorad,model.rrsoc))\n",
    "ttmFull  = torch.cat((model.ms,torch.tensor(msoc.tolist()).unsqueeze(1)),dim=1)\n",
    "ttmFull  = (ttmFull.t() / torch.sum(ttmFull,axis=1)).t()\n",
    "ttfFull  = torch.cat((model.fs,model.fsoc.unsqueeze(0)),dim=0)\n",
    "ttIhat   = torch.matmul(torchA(ttmFull,ttrrFull).float(),ttfFull.float())"
   ]
  },
  {
   "cell_type": "code",
   "execution_count": 119,
   "id": "0d3adcc3",
   "metadata": {},
   "outputs": [],
   "source": [
    "rrFullRaCAFit = ttrrFull.detach().numpy()\n",
    "msFullRaCAFit = ttmFull.detach().numpy()\n",
    "FsFullRaCAFit = ttfFull.detach().numpy()\n",
    "IhFullRaCAFit = ttIhat.detach().numpy()\n",
    "del ttrrFull, ttmFull, ttfFull, ttIhat, model"
   ]
  },
  {
   "cell_type": "code",
   "execution_count": 120,
   "id": "5d6b98c0",
   "metadata": {},
   "outputs": [
    {
     "data": {
      "text/plain": [
       "[<matplotlib.lines.Line2D at 0x7feef81770d0>]"
      ]
     },
     "execution_count": 120,
     "metadata": {},
     "output_type": "execute_result"
    },
    {
     "data": {
      "image/png": "[encoded data removed]",
      "text/plain": [
       "<Figure size 640x480 with 1 Axes>"
      ]
     },
     "metadata": {},
     "output_type": "display_data"
    }
   ],
   "source": [
    "plt.plot(XF, dataI[dataIndices][0])\n",
    "plt.plot(XF, IhFullRaCAFit[0])"
   ]
  },
  {
   "cell_type": "markdown",
   "id": "606973c9",
   "metadata": {},
   "source": [
    "### Train seed encoder model on abundances from fit to data"
   ]
  },
  {
   "cell_type": "code",
   "execution_count": null,
   "id": "742954c7",
   "metadata": {},
   "outputs": [],
   "source": [
    "KEndmembers = 90\n",
    "NPoints = IhFullRaCAFit.shape[0]\n",
    "MSpectra = 2151"
   ]
  },
  {
   "cell_type": "code",
   "execution_count": null,
   "id": "366e044a",
   "metadata": {},
   "outputs": [],
   "source": [
    "# Truth-level outputs: regressed abundances from an LMM\n",
    "tMs  = torch.tensor(msFullRaCAFit.tolist()).to(device)\n",
    "\n",
    "# Truth-level inputs: Individual spectra\n",
    "tIs = torch.tensor(IhFullRaCAFit.tolist()).to(device)\n",
    "\n",
    "# Training settings, optimizer declarations\n",
    "nepochs = 20000\n",
    "seedEncoderModel = LinearMixingEncoder(MSpectra, KEndmembers, 512).to(device)\n",
    "optimizer = optim.Adam(seedEncoderModel.parameters(), lr = 0.000005, betas=(0.99,0.999))\n",
    "preds = []"
   ]
  },
  {
   "cell_type": "code",
   "execution_count": null,
   "id": "4e4d3e69",
   "metadata": {},
   "outputs": [
    {
     "name": "stdout",
     "output_type": "stream",
     "text": [
      "1944360\n"
     ]
    }
   ],
   "source": [
    "model_parameters = filter(lambda p: p.requires_grad, seedEncoderModel.parameters())\n",
    "params = sum([np.prod(p.size()) for p in model_parameters])\n",
    "print(params)"
   ]
  },
  {
   "cell_type": "code",
   "execution_count": null,
   "id": "7bbe21a0",
   "metadata": {},
   "outputs": [],
   "source": [
    "# Optimizer tracking\n",
    "cEpoch = 0\n",
    "lossTracking = np.zeros(nepochs);"
   ]
  },
  {
   "cell_type": "code",
   "execution_count": null,
   "id": "8790d525",
   "metadata": {},
   "outputs": [
    {
     "data": {
      "application/vnd.jupyter.widget-view+json": {
       "model_id": "4a8c6ef82899450491f79fcc06e3d20e",
       "version_major": 2,
       "version_minor": 0
      },
      "text/plain": [
       "  0%|          | 0/20000 [00:00<?, ?it/s]"
      ]
     },
     "metadata": {},
     "output_type": "display_data"
    },
    {
     "name": "stderr",
     "output_type": "stream",
     "text": [
      "/tmp/ipykernel_7657/2082774099.py:38: UserWarning: Implicit dimension choice for softmax has been deprecated. Change the call to include dim=X as an argument.\n",
      "  ms = self.smax(y_mlp);\n"
     ]
    },
    {
     "name": "stdout",
     "output_type": "stream",
     "text": [
      "Epoch  19999 :  5.8347254707769025e-06 0.0006483028300863225\n"
     ]
    }
   ],
   "source": [
    "for epoch in tqdm(range(nepochs)) :\n",
    "    preds = seedEncoderModel(tIs)\n",
    "    loss = (preds - tMs)**2\n",
    "    e = torch.mean(loss)\n",
    "    e.backward()\n",
    "    optimizer.step()\n",
    "    optimizer.zero_grad()\n",
    "\n",
    "    lossTracking[cEpoch] = e.detach().item()\n",
    "    cEpoch += 1\n",
    "\n",
    "print(\"Epoch \",epoch,\": \", lossTracking[-1], lossTracking[-1] / (0.01 ** 2) / (KEndmembers))"
   ]
  },
  {
   "cell_type": "markdown",
   "id": "a947617a",
   "metadata": {},
   "source": [
    "#### Check training output"
   ]
  },
  {
   "cell_type": "code",
   "execution_count": null,
   "id": "8bd4be10",
   "metadata": {},
   "outputs": [
    {
     "data": {
      "image/png": "[encoded data removed]",
      "text/plain": [
       "<Figure size 1000x500 with 2 Axes>"
      ]
     },
     "metadata": {},
     "output_type": "display_data"
    }
   ],
   "source": [
    "_, axarr = plt.subplots(1,2,figsize=(10,5))\n",
    "\n",
    "axarr[0].scatter(msFullRaCAFit[:,-1],np.array(preds[:,-1].tolist()))\n",
    "axarr[0].set_xlabel(\"True SOC abundance\")\n",
    "axarr[0].set_ylabel(\"Predicted SOC abundance\")\n",
    "\n",
    "axarr[1].scatter([i for i in range(lossTracking.shape[0])],lossTracking)\n",
    "axarr[1].set_xlabel(\"Epoch\")\n",
    "axarr[1].set_ylabel(\"chi2/NDF\")\n",
    "\n",
    "plt.tight_layout()\n",
    "plt.show()"
   ]
  },
  {
   "cell_type": "markdown",
   "id": "91c2156f",
   "metadata": {},
   "source": [
    "#### Save seed encoder model"
   ]
  },
  {
   "cell_type": "code",
   "execution_count": null,
   "id": "e14b9e3b",
   "metadata": {},
   "outputs": [],
   "source": [
    "import pickle\n",
    "\n",
    "torch.save((seedEncoderModel,optimizer,preds,lossTracking), \"step8_seedEncoder_E20k_lr0p000005_b1_0p99_b2_0p999.pt\")"
   ]
  },
  {
   "cell_type": "markdown",
   "id": "7b0d4901",
   "metadata": {},
   "source": [
    "#### Compare against data"
   ]
  },
  {
   "cell_type": "code",
   "execution_count": null,
   "id": "8b8f7b03",
   "metadata": {},
   "outputs": [],
   "source": []
  },
  {
   "cell_type": "code",
   "execution_count": null,
   "id": "55fff73f",
   "metadata": {},
   "outputs": [],
   "source": [
    "plt.scatter(sample_soc,np.array(preds[:,-1].tolist()))\n",
    "plt.set_xlabel(\"True SOC abundance\")\n",
    "plt.set_ylabel(\"Predicted SOC abundance\")"
   ]
  },
  {
   "attachments": {},
   "cell_type": "markdown",
   "id": "2d60a5fc-4b90-4a56-bac9-ecf5665dba1d",
   "metadata": {},
   "source": [
    "### Training"
   ]
  },
  {
   "attachments": {},
   "cell_type": "markdown",
   "id": "5b509a74-eca0-4d17-8d59-e50527f92cbd",
   "metadata": {},
   "source": [
    "Set up GPU training."
   ]
  },
  {
   "cell_type": "code",
   "execution_count": 10,
   "id": "09c2c0af-c810-4350-86b1-1f8071493bc9",
   "metadata": {},
   "outputs": [
    {
     "name": "stdout",
     "output_type": "stream",
     "text": [
      "Pytorch CUDA Version is  11.7\n",
      "Whether CUDA is supported by our system: True\n",
      "Name of the current CUDA Device:  NVIDIA GeForce RTX 4090\n",
      "cuda\n"
     ]
    }
   ],
   "source": [
    "print(\"Pytorch CUDA Version is \", torch.version.cuda)\n",
    "print(\"Whether CUDA is supported by our system:\", torch.cuda.is_available())\n",
    "cuda_id = torch.cuda.current_device()\n",
    "print(\"Name of the current CUDA Device: \", torch.cuda.get_device_name(cuda_id))\n",
    "torch.cuda.set_device(0)\n",
    "device = torch.device(\"cuda\" if torch.cuda.is_available() else \"cpu\")\n",
    "print(device)"
   ]
  },
  {
   "cell_type": "code",
   "execution_count": 102,
   "id": "c960eb91-dce0-4e14-9155-ea2fa3f7a2db",
   "metadata": {},
   "outputs": [],
   "source": [
    "# Model seeds: Fs, Ms, and rhorads\n",
    "tFs      = torch.tensor(seedFs.tolist()).to(device)\n",
    "tMs      = torch.tensor(seedMs.tolist()).to(device)\n",
    "trhorads = torch.tensor(rhorads.tolist()).to(device)\n",
    "\n",
    "# Truth-level data:\n",
    "tmsoc    = torch.tensor(sample_soc[dataInds.astype('int')].tolist()).to(device)\n",
    "tmsoc    = tmsoc / 100.\n",
    "tIs      = torch.tensor(dataI[dataInds.astype('int')].tolist()).to(device)\n",
    "\n",
    "nepochs = 100000\n",
    "decoderModel = LinearMixingDecoder(tFs, tMs, trhorads).to(device)\n",
    "encoderDecoderParams = list(decoderModel.parameters()) + list(encoderModel.parameters())\n",
    "optimizer = optim.Adam(encoderDecoderParams, lr = 0.00001, betas=(0.99,0.999))"
   ]
  },
  {
   "cell_type": "code",
   "execution_count": 103,
   "id": "931148d5-f8ce-4faf-b1f1-86acdbf2ccf9",
   "metadata": {},
   "outputs": [
    {
     "name": "stdout",
     "output_type": "stream",
     "text": [
      "1944360\n",
      "193591.0\n"
     ]
    }
   ],
   "source": [
    "encoderModelParams = filter(lambda p: p.requires_grad, encoderModel.parameters())\n",
    "numEncoderParams = sum([np.prod(p.size()) for p in encoderModelParams])\n",
    "print(numEncoderParams)\n",
    "\n",
    "decoderModelParams = filter(lambda p: p.requires_grad, decoderModel.parameters())\n",
    "numDecoderParams = sum([np.prod(p.size()) for p in decoderModelParams])\n",
    "print(numDecoderParams)"
   ]
  },
  {
   "cell_type": "code",
   "execution_count": 104,
   "id": "5204a9ec-9bdf-4ffe-88b7-3ef6802f2fbe",
   "metadata": {},
   "outputs": [],
   "source": [
    "# Optimizer tracking\n",
    "cEpoch = 0\n",
    "lossTrackingEncoder = np.zeros(nepochs);\n",
    "lossTrackingDecoder = np.zeros(nepochs);\n",
    "lossTrackingDecoderLagrangeFactor = np.zeros(nepochs);\n",
    "\n",
    "encoderPreds=[]\n",
    "decoderPreds=[]"
   ]
  },
  {
   "cell_type": "code",
   "execution_count": 105,
   "id": "eb35695d-4644-4b83-9eb2-7b9fe95721cc",
   "metadata": {},
   "outputs": [
    {
     "data": {
      "application/vnd.jupyter.widget-view+json": {
       "model_id": "77975895f76643acbf29acc60f4dce5a",
       "version_major": 2,
       "version_minor": 0
      },
      "text/plain": [
       "  0%|          | 0/100000 [00:00<?, ?it/s]"
      ]
     },
     "metadata": {},
     "output_type": "display_data"
    },
    {
     "name": "stderr",
     "output_type": "stream",
     "text": [
      "/tmp/ipykernel_10315/2082774099.py:38: UserWarning: Implicit dimension choice for softmax has been deprecated. Change the call to include dim=X as an argument.\n",
      "  ms = self.smax(y_mlp);\n"
     ]
    },
    {
     "ename": "KeyboardInterrupt",
     "evalue": "",
     "output_type": "error",
     "traceback": [
      "\u001b[0;31m---------------------------------------------------------------------------\u001b[0m",
      "\u001b[0;31mKeyboardInterrupt\u001b[0m                         Traceback (most recent call last)",
      "Cell \u001b[0;32mIn[105], line 11\u001b[0m\n\u001b[1;32m      8\u001b[0m \u001b[38;5;66;03m# Compute encoder loss: sqerr from true Msoc values\u001b[39;00m\n\u001b[1;32m      9\u001b[0m loss \u001b[38;5;241m=\u001b[39m \u001b[38;5;241m1000\u001b[39m\u001b[38;5;241m*\u001b[39mtorch\u001b[38;5;241m.\u001b[39mmean((encoderPreds[:,\u001b[38;5;241m-\u001b[39m\u001b[38;5;241m1\u001b[39m] \u001b[38;5;241m-\u001b[39m tmsoc)\u001b[38;5;241m*\u001b[39m\u001b[38;5;241m*\u001b[39m\u001b[38;5;241m2\u001b[39m) \n\u001b[0;32m---> 11\u001b[0m lossTrackingEncoder[cEpoch] \u001b[38;5;241m=\u001b[39m \u001b[43mloss\u001b[49m\u001b[38;5;241;43m.\u001b[39;49m\u001b[43mdetach\u001b[49m\u001b[43m(\u001b[49m\u001b[43m)\u001b[49m\u001b[38;5;241;43m.\u001b[39;49m\u001b[43mitem\u001b[49m\u001b[43m(\u001b[49m\u001b[43m)\u001b[49m\n\u001b[1;32m     13\u001b[0m \u001b[38;5;66;03m# Add decoder loss: sqerr from true RaCA spectra\u001b[39;00m\n\u001b[1;32m     14\u001b[0m loss \u001b[38;5;241m=\u001b[39m loss \u001b[38;5;241m+\u001b[39m torch\u001b[38;5;241m.\u001b[39mmean((decoderPreds \u001b[38;5;241m-\u001b[39m tIs)\u001b[38;5;241m*\u001b[39m\u001b[38;5;241m*\u001b[39m\u001b[38;5;241m2\u001b[39m) \u001b[38;5;241m*\u001b[39m decoderModel\u001b[38;5;241m.\u001b[39mcomputeLagrangeLossFactor()\n",
      "\u001b[0;31mKeyboardInterrupt\u001b[0m: "
     ]
    }
   ],
   "source": [
    "for epoch in tqdm(range(nepochs)) :\n",
    "    # Get abundance predictions from encoder\n",
    "    encoderPreds = encoderModel(tIs)\n",
    "    \n",
    "    # Get spectrum predictions from decoder\n",
    "    decoderPreds = decoderModel(encoderPreds)\n",
    "    \n",
    "    # Compute encoder loss: sqerr from true Msoc values\n",
    "    loss = 1000*torch.mean((encoderPreds[:,-1] - tmsoc)**2) \n",
    "    \n",
    "    lossTrackingEncoder[cEpoch] = loss.detach().item()\n",
    "    \n",
    "    # Add decoder loss: sqerr from true RaCA spectra\n",
    "    loss = loss + torch.mean((decoderPreds - tIs)**2) * decoderModel.computeLagrangeLossFactor()\n",
    "\n",
    "    lossTrackingDecoder[cEpoch] = loss.detach().item() - lossTrackingEncoder[cEpoch]\n",
    "    \n",
    "    loss.backward()\n",
    "    optimizer.step()\n",
    "    optimizer.zero_grad()\n",
    "\n",
    "    cEpoch += 1\n",
    "\n",
    "print(\"Epoch \",epoch,\": \", lossTrackingEncoder[-1]+lossTrackingDecoder[-1])"
   ]
  },
  {
   "cell_type": "code",
   "execution_count": 106,
   "id": "2a71361d-4671-49cf-9011-7684191516dd",
   "metadata": {},
   "outputs": [
    {
     "data": {
      "image/png": "[encoded data removed]",
      "text/plain": [
       "<Figure size 1000x1000 with 4 Axes>"
      ]
     },
     "metadata": {},
     "output_type": "display_data"
    }
   ],
   "source": [
    "_, axarr = plt.subplots(2,2,figsize=(10,10))\n",
    "\n",
    "axarr[0,0].scatter(np.array(tmsoc.tolist()),np.array(encoderPreds[:,-1].tolist()))\n",
    "axarr[0,0].set_xlabel(\"True SOC abundance\")\n",
    "axarr[0,0].set_ylabel(\"Encoder-predicted SOC abundance\")\n",
    "\n",
    "axarr[0,1].scatter([i for i in range(cEpoch)],lossTrackingEncoder[:cEpoch])\n",
    "axarr[0,1].set_xlabel(\"Epoch\")\n",
    "axarr[0,1].set_ylabel(\"Encoder Loss\")\n",
    "\n",
    "axarr[1,0].scatter([i for i in range(cEpoch)],lossTrackingDecoder[:cEpoch])\n",
    "axarr[1,0].set_xlabel(\"Epoch\")\n",
    "axarr[1,0].set_ylabel(\"Decoder Loss\")\n",
    "\n",
    "axarr[1,1].scatter([i for i in range(cEpoch)],lossTrackingEncoder[:cEpoch]+lossTrackingDecoder[:cEpoch])\n",
    "axarr[1,1].set_xlabel(\"Epoch\")\n",
    "axarr[1,1].set_ylabel(\"Total Loss\")\n",
    "\n",
    "plt.tight_layout()\n",
    "plt.show()"
   ]
  },
  {
   "cell_type": "code",
   "execution_count": null,
   "id": "7367cd8d-c772-4fd9-8219-53761b421438",
   "metadata": {},
   "outputs": [],
   "source": [
    "import pickle\n",
    "\n",
    "torch.save((encoderModel,decoderModel,optimizer,Is,seedFs,seedMs,rhorads,trueMSOC,dataInds,encoderPreds,decoderPreds,lossTrackingEncoder,lossTrackingDecoder), \"step8_fullFit_E20k_lr0p000005_b1_0p99_b2_0p999.pt\")"
   ]
  },
  {
   "cell_type": "code",
   "execution_count": 130,
   "id": "adc5b60d-013b-4ac8-9975-5144a10527c4",
   "metadata": {},
   "outputs": [
    {
     "data": {
      "image/png": "[encoded data removed]",
      "text/plain": [
       "<Figure size 640x480 with 1 Axes>"
      ]
     },
     "metadata": {},
     "output_type": "display_data"
    }
   ],
   "source": [
    "plt.hist(np.array(tMs[5,:].t().tolist()));\n",
    "#plt.plot(XF,dataI[5,:])"
   ]
  },
  {
   "cell_type": "code",
   "execution_count": 167,
   "id": "990cd0aa-cfb9-4dcc-ab67-264c05f6aa8c",
   "metadata": {},
   "outputs": [
    {
     "data": {
      "text/plain": [
       "[<matplotlib.lines.Line2D at 0x7f550ba7f4c0>]"
      ]
     },
     "execution_count": 167,
     "metadata": {},
     "output_type": "execute_result"
    },
    {
     "data": {
      "image/png": "[encoded data removed]",
      "text/plain": [
       "<Figure size 640x480 with 1 Axes>"
      ]
     },
     "metadata": {},
     "output_type": "display_data"
    }
   ],
   "source": [
    "plt.plot(XF,np.array(torch.matmul(torchA(tMs[5:6,:],trhorads).float(),decoderModel.Fs.float()).tolist()).T)\n",
    "plt.plot(XF,np.array(tIs[5:6,:].tolist()).T)"
   ]
  },
  {
   "cell_type": "code",
   "execution_count": 154,
   "id": "84f80130-ee50-4b00-ad11-7e8dcac2d986",
   "metadata": {},
   "outputs": [
    {
     "data": {
      "text/plain": [
       "tensor([1.0000, 1.0000, 1.0000,  ..., 1.0000, 1.0000, 1.0000], device='cuda:0')"
      ]
     },
     "execution_count": 154,
     "metadata": {},
     "output_type": "execute_result"
    }
   ],
   "source": [
    "torch.sum(torchA(tMs,trhorads).float(),axis=1)"
   ]
  },
  {
   "cell_type": "code",
   "execution_count": 153,
   "id": "6499e914-555a-47e9-82cb-f1140167eaca",
   "metadata": {},
   "outputs": [
    {
     "data": {
      "text/plain": [
       "array([0.095451, 0.115241, 0.112319, ..., 0.459634, 0.460438, 0.461216],\n",
       "      dtype=float32)"
      ]
     },
     "execution_count": 153,
     "metadata": {},
     "output_type": "execute_result"
    }
   ],
   "source": [
    "dataI[5]"
   ]
  },
  {
   "cell_type": "code",
   "execution_count": null,
   "id": "3b48e7aa-ff0d-4717-9f24-80926f8a7452",
   "metadata": {},
   "outputs": [],
   "source": []
  }
 ],
 "metadata": {
  "kernelspec": {
   "display_name": "Python 3 (ipykernel)",
   "language": "python",
   "name": "python3"
  },
  "language_info": {
   "codemirror_mode": {
    "name": "ipython",
    "version": 3
   },
   "file_extension": ".py",
   "mimetype": "text/x-python",
   "name": "python",
   "nbconvert_exporter": "python",
   "pygments_lexer": "ipython3",
   "version": "3.10.9"
  }
 },
 "nbformat": 4,
 "nbformat_minor": 5
}
